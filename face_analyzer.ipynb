{
 "cells": [
  {
   "cell_type": "code",
   "execution_count": 1,
   "id": "f919c35b",
   "metadata": {},
   "outputs": [],
   "source": [
    "from deepface import DeepFace\n",
    "import json"
   ]
  },
  {
   "cell_type": "code",
   "execution_count": 2,
   "id": "2fe4f7cb",
   "metadata": {
    "scrolled": false
   },
   "outputs": [
    {
     "name": "stderr",
     "output_type": "stream",
     "text": [
      "Action: emotion: 100%|███████████████████████████████████████████████████████████████████| 4/4 [00:01<00:00,  2.47it/s]"
     ]
    },
    {
     "name": "stdout",
     "output_type": "stream",
     "text": [
      "[+] Age: 28\n",
      "[+] Gender: Man\n",
      "[+] Race:\n",
      "asian - 2.98%\n",
      "indian - 2.18%\n",
      "black - 0.38%\n",
      "white - 57.53%\n",
      "middle eastern - 22.15%\n",
      "latino hispanic - 14.77%\n",
      "[+] Emotions:\n",
      "angry - 0.11%\n",
      "disgust - 0.0%\n",
      "fear - 18.02%\n",
      "happy - 0.0%\n",
      "sad - 46.81%\n",
      "surprise - 0.0%\n",
      "neutral - 35.06%\n"
     ]
    },
    {
     "name": "stderr",
     "output_type": "stream",
     "text": [
      "\n"
     ]
    }
   ],
   "source": [
    "def face_verify(img_1, img_2):\n",
    "    try:\n",
    "        result_dict = DeepFace.verify(img1_path=img_1, img2_path=img_2)\n",
    "        \n",
    "        with open('result.json', 'w') as file:\n",
    "            json.dump(result_dict, file, indent=4, ensure_ascii=False)\n",
    "        \n",
    "#         return result_dict\n",
    "\n",
    "        if result_dict.get('verified'):\n",
    "            return 'Проверка пройдена. Пропустить.'\n",
    "        return 'Нарушитель! Задержать!!!'\n",
    "    \n",
    "    except Exception as _ex:\n",
    "        return _ex\n",
    "\n",
    "def face_recogn():\n",
    "    try:\n",
    "        result = DeepFace.find(img_path='em1.jpg', db_path='Emilia')\n",
    "        result = result.values.tolist()\n",
    "        \n",
    "        return result\n",
    "    \n",
    "    except Exception as _ex:\n",
    "        return _ex\n",
    "    \n",
    "def face_analyze():\n",
    "    try:\n",
    "        # result_dict = DeepFace.analyze(img_path='faces/jim.jpg', actions=['age', 'gender', 'race', 'emotion'])\n",
    "        # result_dict = DeepFace.analyze(img_path='faces/adr.jpg', actions=['age', 'gender', 'race', 'emotion'])\n",
    "        result_dict = DeepFace.analyze(img_path='San1.jpg', actions=['age', 'gender', 'race', 'emotion'])\n",
    "        \n",
    "        with open('face_analyze.json', 'w') as file:\n",
    "            json.dump(result_dict, file, indent=4, ensure_ascii=False)\n",
    "            \n",
    "        print(f'[+] Age: {result_dict.get(\"age\")}')\n",
    "        print(f'[+] Gender: {result_dict.get(\"gender\")}')\n",
    "        print('[+] Race:')\n",
    "        \n",
    "        for k, v in result_dict.get('race').items():\n",
    "            print(f'{k} - {round(v, 2)}%')\n",
    "            \n",
    "        print('[+] Emotions:')\n",
    "        \n",
    "        for k, v in result_dict.get('emotion').items():\n",
    "            print(f'{k} - {round(v, 2)}%')\n",
    "            \n",
    "#         return result_dict\n",
    "\n",
    "    except Exception as _ex:\n",
    "        return \n",
    "    \n",
    "    \n",
    "def main():\n",
    "#     print(face_verify(img_1='em1.jpg', img_2='em3.jpg'))\n",
    "#     print(face_recogn())\n",
    "    face_analyze()\n",
    "    \n",
    "if __name__ == '__main__':\n",
    "    main()"
   ]
  },
  {
   "cell_type": "code",
   "execution_count": null,
   "id": "7662e7ee",
   "metadata": {},
   "outputs": [],
   "source": []
  }
 ],
 "metadata": {
  "kernelspec": {
   "display_name": "Python 3 (ipykernel)",
   "language": "python",
   "name": "python3"
  },
  "language_info": {
   "codemirror_mode": {
    "name": "ipython",
    "version": 3
   },
   "file_extension": ".py",
   "mimetype": "text/x-python",
   "name": "python",
   "nbconvert_exporter": "python",
   "pygments_lexer": "ipython3",
   "version": "3.9.7"
  }
 },
 "nbformat": 4,
 "nbformat_minor": 5
}
